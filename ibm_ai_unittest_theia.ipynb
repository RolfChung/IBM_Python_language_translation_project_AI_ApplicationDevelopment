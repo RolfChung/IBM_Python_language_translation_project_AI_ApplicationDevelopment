{
 "cells": [
  {
   "cell_type": "code",
   "execution_count": null,
   "id": "307c343e-ca96-49dc-8ae7-63684f8f690d",
   "metadata": {},
   "outputs": [],
   "source": []
  },
  {
   "cell_type": "markdown",
   "id": "f98f3091-c328-4911-b828-00ac21db35c0",
   "metadata": {
    "jp-MarkdownHeadingCollapsed": true,
    "tags": []
   },
   "source": [
    "# Summary\n",
    "### Python language translation project for AI & Application Development \n",
    "#### Sub-task: unittesting with the unittest library\n",
    "\n",
    "<p>\n",
    "This sub task does the unittests:<br>\n",
    "\"In computer programming, unit testing is a software testing method by which individual units of source code sets of one or more computer program modules together with associated control data, usage procedures, and operating procedures are tested to determine whether they are fit for use.\"<br>\n",
    "<a href=\"https://en.wikipedia.org/wiki/Unit_testing\" target=\"_blank\">Wikipedia</a> \n",
    "</p>\n",
    "\n",
    "<p>\n",
    "This project is part of the:<br>\n",
    "<b>\"IBM Applied AI Professional Certificate\"</b> on<br>\n",
    "<a href=\"https://www.coursera.org/professional-certificates/applied-artifical-intelligence-ibm-watson-ai\">Coursera</a> \n",
    "</p>\n",
    "\n",
    "<p>\n",
    "According to IBM:<br>\n",
    "\"This mini-course is intended to apply foundational Python skills by implementing different techniques to develop applications and AI powered solutions. Assume the role of a developer and unit test and package an application with the help of multiple hands-on labs. After completing this course you will have acquired the confidence to begin developing AI enabled applications using Python, build and run unit tests, and package the application for distribution.\"\n",
    "</p>\n",
    "\n",
    "<p>\n",
    "This project includes several sub tasks:</p>\n",
    "</p>\n",
    "\n",
    "<ul>\n",
    "    <li>Developing a real-world project using the IBM language translation API </li>\n",
    "    <li>Unit test in Python code and create a Python package </li>\n",
    "    <li>Build, test, and package your Python application using Theia Labs </li>\n",
    "    <li>Setting up a Flask web app for language translation. </li>\n",
    "    <li>Password encryption with dot-env</li>\n",
    "</ul>\n",
    "\n",
    "<p>\n",
    "For Github the project was modified by using Jupyter Notebooks.<br>\n",
    "This makes it more user-friendly and allows to see immediate outputs without deploying code.<br>\n",
    "However, this created new problems like running a Flask wep app from Jupyter.<br>\n",
    "Normally you would do this using a Python IDE and the command line and not Jupyter.\n",
    "</p>\n",
    "\n",
    "    "
   ]
  },
  {
   "cell_type": "markdown",
   "id": "0bb157a7-315f-40f7-ae78-48bbedf4fcee",
   "metadata": {},
   "source": [
    "# Importing packages"
   ]
  },
  {
   "cell_type": "code",
   "execution_count": 1,
   "id": "f683c185-90e3-4327-8a9a-45ab58f988f4",
   "metadata": {},
   "outputs": [
    {
     "name": "stdout",
     "output_type": "stream",
     "text": [
      "666\n",
      "110889\n"
     ]
    }
   ],
   "source": [
    "import unittest\n",
    "import ibm_ai_modules"
   ]
  },
  {
   "cell_type": "markdown",
   "id": "bfa23a67-b12c-477c-85ac-43cad271b95d",
   "metadata": {},
   "source": [
    "### Unit testing English to French function"
   ]
  },
  {
   "cell_type": "code",
   "execution_count": 2,
   "id": "c385394f-c2e6-4935-80c4-55302080bcc2",
   "metadata": {},
   "outputs": [
    {
     "data": {
      "text/plain": [
       "'Bienvenue'"
      ]
     },
     "execution_count": 2,
     "metadata": {},
     "output_type": "execute_result"
    }
   ],
   "source": [
    "ibm_ai_modules.translator.english_to_french('Welcome')"
   ]
  },
  {
   "cell_type": "code",
   "execution_count": null,
   "id": "b08e438c-6173-4baf-9790-fabe3a55b155",
   "metadata": {},
   "outputs": [],
   "source": []
  },
  {
   "cell_type": "code",
   "execution_count": 3,
   "id": "228c397d-d2f5-46f6-8a4e-40e1392264af",
   "metadata": {},
   "outputs": [
    {
     "name": "stderr",
     "output_type": "stream",
     "text": [
      "test_None_engl_french (__main__.TestEnglFrench_notnone) ... ok\n",
      "\n",
      "----------------------------------------------------------------------\n",
      "Ran 1 test in 0.318s\n",
      "\n",
      "OK\n"
     ]
    }
   ],
   "source": [
    "import unittest\n",
    "import ibm_ai_modules\n",
    "\n",
    "class TestEnglFrench_notnone(unittest.TestCase): \n",
    "    def test_None_engl_french(self): \n",
    "        self.assertIsNotNone(ibm_ai_modules.translator.english_to_french('Geek'),  \"Test value is not none.\")\n",
    "\n",
    "if __name__ == '__main__':\n",
    "    unittest.main(argv=[''], verbosity=3, exit=False)"
   ]
  },
  {
   "cell_type": "code",
   "execution_count": 4,
   "id": "99abac4e-cb4a-45b5-a862-a7d352efa665",
   "metadata": {},
   "outputs": [
    {
     "name": "stderr",
     "output_type": "stream",
     "text": [
      "test_ISNone_engl_french (__main__.TestEnglFrench_none) ... ok\n",
      "test_None_engl_french (__main__.TestEnglFrench_notnone) ... ok\n",
      "\n",
      "----------------------------------------------------------------------\n",
      "Ran 2 tests in 0.644s\n",
      "\n",
      "OK\n"
     ]
    }
   ],
   "source": [
    "import unittest\n",
    "import ibm_ai_modules\n",
    "\n",
    "class TestEnglFrench_none(unittest.TestCase): \n",
    "    def test_ISNone_engl_french(self): \n",
    "        self.assertIsNotNone(ibm_ai_modules.translator.english_to_french('Bonjour'),  \"Test value is none.\")\n",
    "\n",
    "if __name__ == '__main__':\n",
    "    unittest.main(argv=[''], verbosity=3, exit=False)"
   ]
  },
  {
   "cell_type": "code",
   "execution_count": 5,
   "id": "2f4bcfb7-9ef6-4c9b-a86d-b2645755e021",
   "metadata": {},
   "outputs": [
    {
     "name": "stderr",
     "output_type": "stream",
     "text": [
      "test_ISNone_engl_french (__main__.TestEnglFrench_none) ... ok\n",
      "test_None_engl_french (__main__.TestEnglFrench_notnone) ... ok\n",
      "test_None_french_engl (__main__.TestFrenchEnglish) ... ok\n",
      "\n",
      "----------------------------------------------------------------------\n",
      "Ran 3 tests in 0.840s\n",
      "\n",
      "OK\n"
     ]
    }
   ],
   "source": [
    "import unittest\n",
    "import ibm_ai_modules\n",
    "\n",
    "class TestFrenchEnglish(unittest.TestCase): \n",
    "    def test_None_french_engl(self): \n",
    "        self.assertIsNotNone(ibm_ai_modules.translator.french_to_english('Bonjour'),  \"Test value is not none.\")\n",
    "        \n",
    "\n",
    "if __name__ == '__main__':\n",
    "    unittest.main(argv=[''], verbosity=3, exit=False)"
   ]
  },
  {
   "cell_type": "code",
   "execution_count": 6,
   "id": "f0b6dee2-ef12-483b-bd4d-bf2d1429cbcb",
   "metadata": {},
   "outputs": [],
   "source": [
    "import unittest\n",
    "import ibm_ai_modules"
   ]
  },
  {
   "cell_type": "code",
   "execution_count": 7,
   "id": "88824f1f-492c-45b6-af57-1fb4da663cb7",
   "metadata": {},
   "outputs": [],
   "source": [
    "def test_func_none(input):\n",
    "    \n",
    "            print(ibm_ai_modules.translator.french_to_english(input))\n",
    "\n",
    "            class TestFrenchEnglish(unittest.TestCase): \n",
    "                def test_None_french_engl(self): \n",
    "                    self.assertIsNotNone(ibm_ai_modules.translator.french_to_english(input),  \"Test value is superman.\")\n",
    "                    \n",
    "        \n",
    "            if __name__ == '__main__':\n",
    "                            unittest.main(argv=[''], verbosity=3, exit=False)"
   ]
  },
  {
   "cell_type": "code",
   "execution_count": 8,
   "id": "ca7c25ee-1813-4db4-8de8-b3f7a33f5764",
   "metadata": {},
   "outputs": [
    {
     "name": "stderr",
     "output_type": "stream",
     "text": [
      "test_ISNone_engl_french (__main__.TestEnglFrench_none) ... "
     ]
    },
    {
     "name": "stdout",
     "output_type": "stream",
     "text": [
      "Hello\n"
     ]
    },
    {
     "name": "stderr",
     "output_type": "stream",
     "text": [
      "ok\n",
      "test_None_engl_french (__main__.TestEnglFrench_notnone) ... ok\n",
      "test_None_french_engl (__main__.TestFrenchEnglish) ... ok\n",
      "\n",
      "----------------------------------------------------------------------\n",
      "Ran 3 tests in 0.906s\n",
      "\n",
      "OK\n"
     ]
    }
   ],
   "source": [
    "test_func_none('Bonjour')"
   ]
  },
  {
   "cell_type": "code",
   "execution_count": null,
   "id": "b251035e-7400-4f60-bba1-09915154ba28",
   "metadata": {},
   "outputs": [],
   "source": []
  }
 ],
 "metadata": {
  "kernelspec": {
   "display_name": "Python [conda env:ibm_ai]",
   "language": "python",
   "name": "conda-env-ibm_ai-py"
  },
  "language_info": {
   "codemirror_mode": {
    "name": "ipython",
    "version": 3
   },
   "file_extension": ".py",
   "mimetype": "text/x-python",
   "name": "python",
   "nbconvert_exporter": "python",
   "pygments_lexer": "ipython3",
   "version": "3.9.7"
  }
 },
 "nbformat": 4,
 "nbformat_minor": 5
}
