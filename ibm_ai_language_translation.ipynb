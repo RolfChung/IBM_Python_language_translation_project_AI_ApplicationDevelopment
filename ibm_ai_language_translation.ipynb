{
 "cells": [
  {
   "cell_type": "markdown",
   "id": "a8f68017-ca28-435d-b2ad-7434c5878874",
   "metadata": {},
   "source": [
    "# Summary\n",
    "### Python language translation project for AI & Application Development \n",
    "#### Sub-task: language translation\n",
    "\n",
    "<p>\n",
    "This sub task is a core task.<br>\n",
    "It does the heavy work of language translation from French to English and vice versa.\n",
    "</p>\n",
    "\n",
    "<p>\n",
    "This project is part of the:<br>\n",
    "<b>\"IBM Applied AI Professional Certificate\"</b> on<br>\n",
    "<a href=\"https://www.coursera.org/professional-certificates/applied-artifical-intelligence-ibm-watson-ai\">Coursera</a> \n",
    "</p>\n",
    "\n",
    "<p>\n",
    "According to IBM:<br>\n",
    "\"This mini-course is intended to apply foundational Python skills by implementing different techniques to develop applications and AI powered solutions. Assume the role of a developer and unit test and package an application with the help of multiple hands-on labs. After completing this course you will have acquired the confidence to begin developing AI enabled applications using Python, build and run unit tests, and package the application for distribution.\"\n",
    "</p>\n",
    "\n",
    "<p>\n",
    "This project includes several sub tasks:</p>\n",
    "</p>\n",
    "\n",
    "<ul>\n",
    "    <li>Developing a real-world project using the IBM language translation API </li>\n",
    "    <li>Unit test in Python code and create a Python package </li>\n",
    "    <li>Build, test, and package your Python application using Theia Labs </li>\n",
    "    <li>Setting up a Flask web app for language translation. </li>\n",
    "    <li>Password encryption with dot-env</li>\n",
    "</ul>\n",
    "\n",
    "<p>\n",
    "For Github the project was modified by using Jupyter Notebooks.<br>\n",
    "This makes it more user-friendly and allows to see immediate outputs without deploying code.<br>\n",
    "However, this created new problems like running a Flask wep app from Jupyter.<br>\n",
    "Normally you would do this using a Python IDE and the command line and not Jupyter.\n",
    "</p>\n",
    "\n",
    "    "
   ]
  },
  {
   "cell_type": "markdown",
   "id": "ceb612ec-9662-41b6-b8cb-df3ae90ed3ce",
   "metadata": {},
   "source": [
    "# Importing packages"
   ]
  },
  {
   "cell_type": "code",
   "execution_count": 1,
   "id": "cec10cb6-2072-4a53-8812-7f3668b6a2ab",
   "metadata": {},
   "outputs": [],
   "source": [
    "# IBM Watson\n",
    "import ibm_watson\n",
    "from ibm_watson import LanguageTranslatorV3\n",
    "import json\n",
    "from ibm_cloud_sdk_core.authenticators import IAMAuthenticator\n",
    "\n",
    "\n",
    "\n",
    "# Standard packages\n",
    "import pandas as pd\n",
    "from pandas import json_normalize\n",
    "import numpy as np\n",
    "import os\n",
    "from pathlib import Path"
   ]
  },
  {
   "cell_type": "code",
   "execution_count": 2,
   "id": "826d5672-c1f3-42e3-843c-2be0494daf8d",
   "metadata": {},
   "outputs": [
    {
     "name": "stdout",
     "output_type": "stream",
     "text": [
      "1.4.1\n",
      "1.21.5\n",
      "5.3.1\n"
     ]
    }
   ],
   "source": [
    "print(pd.__version__)\n",
    "print(np.__version__)\n",
    "print(ibm_watson.__version__)"
   ]
  },
  {
   "cell_type": "code",
   "execution_count": 3,
   "id": "9cc9f883-b623-4f1d-9d7e-df8049bb6959",
   "metadata": {},
   "outputs": [],
   "source": [
    "!conda list >txt/requirements_ibm_ai_language_translation.txt"
   ]
  },
  {
   "cell_type": "markdown",
   "id": "da03f01a-eea5-4656-bc84-3a3d97df6c1c",
   "metadata": {},
   "source": [
    "#### Testing pd and np"
   ]
  },
  {
   "cell_type": "code",
   "execution_count": 4,
   "id": "1900fbfe-f397-4b14-82ab-a85ea0b5322f",
   "metadata": {},
   "outputs": [
    {
     "name": "stdout",
     "output_type": "stream",
     "text": [
      "G:\\Other computers\\Mein Laptop (1)\\data_camp_projects\\ibm_ai_language_translation\n"
     ]
    }
   ],
   "source": [
    "cwd = os.getcwd()\n",
    "print(cwd)"
   ]
  },
  {
   "cell_type": "markdown",
   "id": "d97f8f7b-ccc0-495b-a41d-d2f835c46fca",
   "metadata": {},
   "source": [
    "## Authentication with service credentials\n",
    "\n",
    "<p>\n",
    "\"You authenticate to the API by using IBM Cloud Identity and Access Management (IAM)\".\n",
    "</p>\n",
    "\n",
    "<p>\n",
    "\"You can pass either a bearer token in an authorization header or an API key. Tokens support authenticated requests without embedding service credentials in every call. API keys use basic authentication. For more information, see Authenticating to Watson services.\" \n",
    "</p>\n",
    "\n",
    "<a href=\"https://cloud.ibm.com/apidocs/language-translator?code=python\" target=\"_blank\">cloud.ibm.com</a>\n"
   ]
  },
  {
   "cell_type": "code",
   "execution_count": 5,
   "id": "57ef85b8-d2e6-4834-8d77-dbca7b9f0261",
   "metadata": {},
   "outputs": [
    {
     "name": "stdout",
     "output_type": "stream",
     "text": [
      "666\n",
      "110889\n"
     ]
    }
   ],
   "source": [
    "import ibm_ai_modules"
   ]
  },
  {
   "cell_type": "code",
   "execution_count": 6,
   "id": "3d5e5e9d-238d-44ce-bca0-120457d8f4aa",
   "metadata": {},
   "outputs": [],
   "source": [
    "apikey_lt = ibm_ai_modules.settings.SECRET_KEY\n",
    "version_lt = ibm_ai_modules.settings.VERSION\n",
    "url_lt = ibm_ai_modules.settings.DOMAIN"
   ]
  },
  {
   "cell_type": "code",
   "execution_count": 7,
   "id": "08db7f01-cdf1-4882-bf4a-bc813baf17c2",
   "metadata": {},
   "outputs": [
    {
     "data": {
      "text/plain": [
       "<ibm_watson.language_translator_v3.LanguageTranslatorV3 at 0x23df3373be0>"
      ]
     },
     "execution_count": 7,
     "metadata": {},
     "output_type": "execute_result"
    }
   ],
   "source": [
    "authenticator = IAMAuthenticator(apikey_lt)\n",
    "language_translator = LanguageTranslatorV3(version=version_lt,authenticator=authenticator)\n",
    "language_translator.set_service_url(url_lt)\n",
    "\n",
    "# Check\n",
    "language_translator"
   ]
  },
  {
   "cell_type": "markdown",
   "id": "95f47e01-2736-4637-8fa6-ac5b3eaf1ba5",
   "metadata": {
    "tags": []
   },
   "source": [
    "## Language translation\n",
    "\n",
    "<p>\n",
    "\"IBM Watson™ Language Translator translates text from one language to another. The service offers multiple IBM-provided translation models that you can customize based on your unique terminology and language. Use Language Translator to take news from across the globe and present it in your language, communicate with your customers in their own language, and more.\"<br>\n",
    "<a href=\"https://cloud.ibm.com/apidocs/language-translator?code=python\" target=\"_blank\">language-translatorcloud.ibm.com</a>\n",
    "<p>\n",
    "\n",
    "What languages are offered?\n"
   ]
  },
  {
   "cell_type": "code",
   "execution_count": 8,
   "id": "759d0ffe-8f2c-41f0-b4dd-014032800e49",
   "metadata": {},
   "outputs": [
    {
     "name": "stdout",
     "output_type": "stream",
     "text": [
      "<class 'pandas.core.frame.DataFrame'>\n",
      "RangeIndex: 76 entries, 0 to 75\n",
      "Data columns (total 2 columns):\n",
      " #   Column    Non-Null Count  Dtype \n",
      "---  ------    --------------  ----- \n",
      " 0   language  76 non-null     object\n",
      " 1   name      76 non-null     object\n",
      "dtypes: object(2)\n",
      "memory usage: 1.3+ KB\n"
     ]
    },
    {
     "data": {
      "text/html": [
       "<div>\n",
       "<style scoped>\n",
       "    .dataframe tbody tr th:only-of-type {\n",
       "        vertical-align: middle;\n",
       "    }\n",
       "\n",
       "    .dataframe tbody tr th {\n",
       "        vertical-align: top;\n",
       "    }\n",
       "\n",
       "    .dataframe thead th {\n",
       "        text-align: right;\n",
       "    }\n",
       "</style>\n",
       "<table border=\"1\" class=\"dataframe\">\n",
       "  <thead>\n",
       "    <tr style=\"text-align: right;\">\n",
       "      <th></th>\n",
       "      <th>language</th>\n",
       "      <th>name</th>\n",
       "    </tr>\n",
       "  </thead>\n",
       "  <tbody>\n",
       "    <tr>\n",
       "      <th>0</th>\n",
       "      <td>af</td>\n",
       "      <td>Afrikaans</td>\n",
       "    </tr>\n",
       "    <tr>\n",
       "      <th>1</th>\n",
       "      <td>ar</td>\n",
       "      <td>Arabic</td>\n",
       "    </tr>\n",
       "    <tr>\n",
       "      <th>2</th>\n",
       "      <td>az</td>\n",
       "      <td>Azerbaijani</td>\n",
       "    </tr>\n",
       "    <tr>\n",
       "      <th>3</th>\n",
       "      <td>ba</td>\n",
       "      <td>Bashkir</td>\n",
       "    </tr>\n",
       "    <tr>\n",
       "      <th>4</th>\n",
       "      <td>be</td>\n",
       "      <td>Belarusian</td>\n",
       "    </tr>\n",
       "  </tbody>\n",
       "</table>\n",
       "</div>"
      ],
      "text/plain": [
       "  language         name\n",
       "0       af    Afrikaans\n",
       "1       ar       Arabic\n",
       "2       az  Azerbaijani\n",
       "3       ba      Bashkir\n",
       "4       be   Belarusian"
      ]
     },
     "execution_count": 8,
     "metadata": {},
     "output_type": "execute_result"
    }
   ],
   "source": [
    "# from pandas import json_normalize\n",
    "language_df = json_normalize(language_translator.list_identifiable_languages().get_result(), \"languages\")\n",
    "\n",
    "language_df.info()\n",
    "language_df.head()"
   ]
  },
  {
   "cell_type": "code",
   "execution_count": 9,
   "id": "93ffc1a9-c90b-4256-b1db-8df2f929d3b7",
   "metadata": {},
   "outputs": [
    {
     "data": {
      "text/plain": [
       "['Finnish',\n",
       " 'French',\n",
       " 'Irish',\n",
       " 'Gujarati',\n",
       " 'Hebrew',\n",
       " 'Hindi',\n",
       " 'Croatian',\n",
       " 'Haitian',\n",
       " 'Hungarian',\n",
       " 'Armenian']"
      ]
     },
     "execution_count": 9,
     "metadata": {},
     "output_type": "execute_result"
    }
   ],
   "source": [
    "language_df_list = language_df.name.tolist()\n",
    "language_df_list[20:30]"
   ]
  },
  {
   "cell_type": "code",
   "execution_count": 10,
   "id": "1f868731-ce7d-4d3f-bd22-ed0933a6a7d8",
   "metadata": {},
   "outputs": [
    {
     "data": {
      "text/html": [
       "<div>\n",
       "<style scoped>\n",
       "    .dataframe tbody tr th:only-of-type {\n",
       "        vertical-align: middle;\n",
       "    }\n",
       "\n",
       "    .dataframe tbody tr th {\n",
       "        vertical-align: top;\n",
       "    }\n",
       "\n",
       "    .dataframe thead th {\n",
       "        text-align: right;\n",
       "    }\n",
       "</style>\n",
       "<table border=\"1\" class=\"dataframe\">\n",
       "  <thead>\n",
       "    <tr style=\"text-align: right;\">\n",
       "      <th></th>\n",
       "      <th>language</th>\n",
       "      <th>name</th>\n",
       "    </tr>\n",
       "  </thead>\n",
       "  <tbody>\n",
       "    <tr>\n",
       "      <th>14</th>\n",
       "      <td>en</td>\n",
       "      <td>English</td>\n",
       "    </tr>\n",
       "    <tr>\n",
       "      <th>21</th>\n",
       "      <td>fr</td>\n",
       "      <td>French</td>\n",
       "    </tr>\n",
       "  </tbody>\n",
       "</table>\n",
       "</div>"
      ],
      "text/plain": [
       "   language     name\n",
       "14       en  English\n",
       "21       fr   French"
      ]
     },
     "execution_count": 10,
     "metadata": {},
     "output_type": "execute_result"
    }
   ],
   "source": [
    "language_df[(language_df.name =='French') | (language_df.name =='English')]"
   ]
  },
  {
   "cell_type": "markdown",
   "id": "3e5f1ddd-2731-4d6a-b66f-303117bb6670",
   "metadata": {},
   "source": [
    "## Language translation functions\n",
    "<p>using the functions stored in translator.py</p>\n",
    "### English to French"
   ]
  },
  {
   "cell_type": "code",
   "execution_count": 11,
   "id": "7d58062e-271b-401f-95fa-2c7977cd8f50",
   "metadata": {},
   "outputs": [],
   "source": [
    "# My package\n",
    "import ibm_ai_modules"
   ]
  },
  {
   "cell_type": "markdown",
   "id": "c5bdb9d6-8946-4cda-9e77-41e1157eaf31",
   "metadata": {
    "tags": []
   },
   "source": [
    "#### Print the content and functions in translator.py"
   ]
  },
  {
   "cell_type": "code",
   "execution_count": 12,
   "id": "50bc7504-9ab6-40a1-a68a-8e25515c9693",
   "metadata": {},
   "outputs": [
    {
     "name": "stdout",
     "output_type": "stream",
     "text": [
      "import ibm_watson\n",
      "from ibm_watson import LanguageTranslatorV3\n",
      "import json\n",
      "from ibm_cloud_sdk_core.authenticators import IAMAuthenticator\n",
      "from ibm_ai_modules import config_language\n",
      "\n",
      "url_lt = config_language.url_lt\n",
      "apikey_lt = config_language.apikey_lt\n",
      "version_lt = config_language.version_lt\n",
      "\n",
      "authenticator = IAMAuthenticator(apikey_lt)\n",
      "language_translator = LanguageTranslatorV3(version=version_lt,authenticator=authenticator)\n",
      "language_translator.set_service_url(url_lt)\n",
      "\n",
      "# Check\n",
      "language_translator\n",
      "\n",
      "\n",
      "def english_to_french(recognized_text, lgt=language_translator):\n",
      "        # lt_2 = eval(lt)\n",
      "        translation_response_fr = \\\n",
      "        lgt.translate(text=recognized_text, model_id='en-fr')\n",
      "        translation_fr=translation_response_fr.get_result()\n",
      "        french_translation =translation_fr['translations'][0]['translation']\n",
      "        return french_translation \n",
      "\n",
      "def french_to_english(recognized_text):\n",
      "        translation_response_fr_engl = \\\n",
      "        language_translator.translate(\\\n",
      "        text=recognized_text, model_id='fr-en')\n",
      "        translation_fr_engl=translation_response_fr_engl.get_result()\n",
      "        engl_translation =translation_fr_engl['translations'][0]['translation']\n",
      "        return engl_translation\n"
     ]
    }
   ],
   "source": [
    "with open(\"ibm_ai_modules/translator.py\", \"r\") as file:\n",
    "    r = file.read()\n",
    "    \n",
    "    \n",
    "print(r)\n",
    "    "
   ]
  },
  {
   "cell_type": "markdown",
   "id": "a500bcaa-16b0-4337-b32c-8db03e72e790",
   "metadata": {},
   "source": [
    "#### Translation English to French"
   ]
  },
  {
   "cell_type": "code",
   "execution_count": 13,
   "id": "7afee19a-acca-447c-9b09-56610b57b8f8",
   "metadata": {},
   "outputs": [
    {
     "data": {
      "text/plain": [
       "'Bonjour !'"
      ]
     },
     "execution_count": 13,
     "metadata": {},
     "output_type": "execute_result"
    }
   ],
   "source": [
    "ibm_ai_modules.translator.english_to_french('Hello!')"
   ]
  },
  {
   "cell_type": "code",
   "execution_count": 14,
   "id": "777b94d4-687e-4001-81e9-c85031393698",
   "metadata": {},
   "outputs": [
    {
     "data": {
      "text/plain": [
       "'Bienvenue dans notre hôtel !'"
      ]
     },
     "execution_count": 14,
     "metadata": {},
     "output_type": "execute_result"
    }
   ],
   "source": [
    "ibm_ai_modules.translator.english_to_french('Welcome in our hotel!')"
   ]
  },
  {
   "cell_type": "code",
   "execution_count": 15,
   "id": "8f756c82-b8d3-4fac-990a-3b11e2c92ba4",
   "metadata": {},
   "outputs": [
    {
     "data": {
      "text/plain": [
       "'Vous avez réservé la suite présidentielle.'"
      ]
     },
     "execution_count": 15,
     "metadata": {},
     "output_type": "execute_result"
    }
   ],
   "source": [
    "ibm_ai_modules.translator.english_to_french('You have reserved the presidental suite.')"
   ]
  },
  {
   "cell_type": "markdown",
   "id": "530e6c42-9814-4f82-9d2d-2eeae223052f",
   "metadata": {},
   "source": [
    "#### Translation French to English"
   ]
  },
  {
   "cell_type": "code",
   "execution_count": 16,
   "id": "820f60d0-70a1-40da-9a0a-407f6cc3794e",
   "metadata": {},
   "outputs": [
    {
     "data": {
      "text/plain": [
       "'Hello'"
      ]
     },
     "execution_count": 16,
     "metadata": {},
     "output_type": "execute_result"
    }
   ],
   "source": [
    "ibm_ai_modules.translator.french_to_english('Bonjour')"
   ]
  },
  {
   "cell_type": "code",
   "execution_count": 17,
   "id": "410258cf-e90a-4977-9540-5f9ea2856d4c",
   "metadata": {},
   "outputs": [
    {
     "data": {
      "text/plain": [
       "'Welcome to our hotel!'"
      ]
     },
     "execution_count": 17,
     "metadata": {},
     "output_type": "execute_result"
    }
   ],
   "source": [
    "ibm_ai_modules.translator.french_to_english('Bienvenue dans notre hôtel !')"
   ]
  },
  {
   "cell_type": "code",
   "execution_count": 18,
   "id": "70981ed8-9384-4196-a71e-14c33ec2573b",
   "metadata": {},
   "outputs": [
    {
     "data": {
      "text/plain": [
       "'You have reserved the presidential suite.'"
      ]
     },
     "execution_count": 18,
     "metadata": {},
     "output_type": "execute_result"
    }
   ],
   "source": [
    "ibm_ai_modules.translator.french_to_english('Vous avez réservé la suite présidentielle.')"
   ]
  }
 ],
 "metadata": {
  "kernelspec": {
   "display_name": "Python [conda env:ibm_ai]",
   "language": "python",
   "name": "conda-env-ibm_ai-py"
  },
  "language_info": {
   "codemirror_mode": {
    "name": "ipython",
    "version": 3
   },
   "file_extension": ".py",
   "mimetype": "text/x-python",
   "name": "python",
   "nbconvert_exporter": "python",
   "pygments_lexer": "ipython3",
   "version": "3.9.7"
  }
 },
 "nbformat": 4,
 "nbformat_minor": 5
}
