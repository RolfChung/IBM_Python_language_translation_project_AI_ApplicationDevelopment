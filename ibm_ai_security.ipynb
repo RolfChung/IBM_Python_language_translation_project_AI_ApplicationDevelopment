{
 "cells": [
  {
   "cell_type": "markdown",
   "id": "364e0864-20c1-47d8-9513-a744ce356993",
   "metadata": {},
   "source": [
    "# Summary\n",
    "### Python language translation project for AI & Application Development \n",
    "#### Sub-task: language translation\n",
    "\n",
    "<p>\n",
    "This sub task checks if the dotenv .env was successfully implemented.<br>\n",
    "More on this here:<br>\n",
    "<a href=\"https://www.askpython.com/python/python-dotenv-module\">Keep your secrets safe with Python-dotenv</a> \n",
    "</p>\n",
    "\n",
    "<p>\n",
    "This project is part of the:<br>\n",
    "<b>\"IBM Applied AI Professional Certificate\"</b> on<br>\n",
    "<a href=\"https://www.coursera.org/professional-certificates/applied-artifical-intelligence-ibm-watson-ai\">Coursera</a> \n",
    "</p>\n",
    "\n",
    "<p>\n",
    "According to IBM:<br>\n",
    "\"This mini-course is intended to apply foundational Python skills by implementing different techniques to develop applications and AI powered solutions. Assume the role of a developer and unit test and package an application with the help of multiple hands-on labs. After completing this course you will have acquired the confidence to begin developing AI enabled applications using Python, build and run unit tests, and package the application for distribution.\"\n",
    "</p>\n",
    "\n",
    "<p>\n",
    "This project includes several sub tasks:</p>\n",
    "</p>\n",
    "\n",
    "<ul>\n",
    "    <li>Developing a real-world project using the IBM language translation API </li>\n",
    "    <li>Unit test in Python code and create a Python package </li>\n",
    "    <li>Build, test, and package your Python application using Theia Labs </li>\n",
    "    <li>Setting up a Flask web app for language translation. </li>\n",
    "    <li>Password encryption with dot-env</li>\n",
    "</ul>\n",
    "\n",
    "<p>\n",
    "For Github the project was modified by using Jupyter Notebooks.<br>\n",
    "This makes it more user-friendly and allows to see immediate outputs without deploying code.<br>\n",
    "However, this created new problems like running a Flask wep app from Jupyter.<br>\n",
    "Normally you would do this using a Python IDE and the command line and not Jupyter.\n",
    "</p>\n",
    "\n",
    "    "
   ]
  },
  {
   "cell_type": "markdown",
   "id": "a2a04a14-8b59-4207-b32d-edad94d5dfc0",
   "metadata": {},
   "source": [
    "# Importing packages"
   ]
  },
  {
   "cell_type": "code",
   "execution_count": 1,
   "id": "15ef677f-4c71-49eb-9b1c-1b613ea46cfb",
   "metadata": {},
   "outputs": [],
   "source": [
    "# IBM Watson\n",
    "import ibm_watson\n",
    "from ibm_watson import LanguageTranslatorV3\n",
    "import json\n",
    "from ibm_cloud_sdk_core.authenticators import IAMAuthenticator\n",
    "\n",
    "\n",
    "# Standard packages\n",
    "import pandas as pd\n",
    "from pandas import json_normalize\n",
    "import numpy as np\n",
    "import os\n"
   ]
  },
  {
   "cell_type": "code",
   "execution_count": 2,
   "id": "38003a8f-d5b9-4c22-b871-6bde31679fc8",
   "metadata": {},
   "outputs": [
    {
     "name": "stdout",
     "output_type": "stream",
     "text": [
      "666\n",
      "110889\n"
     ]
    }
   ],
   "source": [
    "import ibm_ai_modules"
   ]
  },
  {
   "cell_type": "code",
   "execution_count": 3,
   "id": "82041761-2a67-41d9-94c8-dae1ee2c2c33",
   "metadata": {},
   "outputs": [],
   "source": [
    "# apikey_lt = ibm_ai_modules.settings.SECRET_KEY\n",
    "# version_lt = ibm_ai_modules.settings.VERSION\n",
    "# url_lt = ibm_ai_modules.settings.DOMAIN"
   ]
  },
  {
   "cell_type": "code",
   "execution_count": 4,
   "id": "d84eeaa8-37d1-407a-aaab-2c0e30442bc4",
   "metadata": {},
   "outputs": [],
   "source": [
    "!conda list >txt/requirements_ibm_ai_security.txt"
   ]
  },
  {
   "cell_type": "markdown",
   "id": "98e9d7e7-12ec-45d2-8982-f464040033a0",
   "metadata": {},
   "source": [
    "## RunPython-dotenv script\n",
    "\n",
    "\n",
    "<a href=\"https://www.askpython.com/python/python-dotenv-module\" target=\"_blank\">Keep your secrets safe with Python-dotenv</a> \n"
   ]
  },
  {
   "cell_type": "code",
   "execution_count": 5,
   "id": "abc13e76-68f8-4979-94b4-28fa36aeab08",
   "metadata": {},
   "outputs": [],
   "source": [
    " %run ibm_ai_modules/settings.py"
   ]
  },
  {
   "cell_type": "markdown",
   "id": "38135082-1e72-4e14-afca-76d325e85956",
   "metadata": {},
   "source": [
    "#### Did the script run?"
   ]
  },
  {
   "cell_type": "markdown",
   "id": "05b09562-54ff-455b-a5e4-fc7260fd8fca",
   "metadata": {},
   "source": [
    "<p>\n",
    "The print calls below are working.<br>\n",
    "The credentials are successfully imported.\n",
    "<p>\n",
    "    \n",
    "<ul>\n",
    "  <li>print(DOMAIN)</li>\n",
    "  <li>print(SECRET_KEY)</li>\n",
    "  <li>print(VERSION)</li>\n",
    "</ul> \n",
    "\n"
   ]
  },
  {
   "cell_type": "markdown",
   "id": "7df64e3c-d128-4707-b0f8-5fd66a73cd0e",
   "metadata": {},
   "source": [
    "## Authentication with service credentials\n",
    "\n",
    "<p>\n",
    "\"You authenticate to the API by using IBM Cloud Identity and Access Management (IAM)\".\n",
    "</p>\n",
    "\n",
    "<p>\n",
    "\"You can pass either a bearer token in an authorization header or an API key. Tokens support authenticated requests without embedding service credentials in every call. API keys use basic authentication. For more information, see Authenticating to Watson services.\" \n",
    "</p>\n",
    "\n",
    "<a href=\"https://cloud.ibm.com/apidocs/language-translator?code=python\" target=\"_blank\">cloud.ibm.com</a>\n"
   ]
  },
  {
   "cell_type": "code",
   "execution_count": 6,
   "id": "0178cbed-4f96-4e69-9ee2-7f798456e154",
   "metadata": {},
   "outputs": [],
   "source": [
    "url_lt = DOMAIN\n",
    "apikey_lt = SECRET_KEY\n",
    "version_lt = VERSION"
   ]
  },
  {
   "cell_type": "code",
   "execution_count": 7,
   "id": "4e8abea0-7f04-46ee-9df6-71575b234955",
   "metadata": {},
   "outputs": [
    {
     "name": "stdout",
     "output_type": "stream",
     "text": [
      "<ibm_watson.language_translator_v3.LanguageTranslatorV3 object at 0x0000021DCC253F40>\n"
     ]
    }
   ],
   "source": [
    "authenticator = IAMAuthenticator(apikey_lt)\n",
    "language_translator = LanguageTranslatorV3(version=version_lt,authenticator=authenticator)\n",
    "language_translator.set_service_url(url_lt)\n",
    "\n",
    "# Check\n",
    "print(language_translator)"
   ]
  },
  {
   "cell_type": "code",
   "execution_count": null,
   "id": "0e6cf6fc-f27c-4523-b4ad-931eea1dfd76",
   "metadata": {},
   "outputs": [],
   "source": []
  },
  {
   "cell_type": "code",
   "execution_count": null,
   "id": "a6164a8d-139d-4259-a506-170382df09e8",
   "metadata": {},
   "outputs": [],
   "source": []
  }
 ],
 "metadata": {
  "kernelspec": {
   "display_name": "Python [conda env:ibm_ai]",
   "language": "python",
   "name": "conda-env-ibm_ai-py"
  },
  "language_info": {
   "codemirror_mode": {
    "name": "ipython",
    "version": 3
   },
   "file_extension": ".py",
   "mimetype": "text/x-python",
   "name": "python",
   "nbconvert_exporter": "python",
   "pygments_lexer": "ipython3",
   "version": "3.9.7"
  }
 },
 "nbformat": 4,
 "nbformat_minor": 5
}
