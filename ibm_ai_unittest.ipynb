{
 "cells": [
  {
   "cell_type": "markdown",
   "id": "77eac9ef-b542-415b-96b6-2121c4cb7f63",
   "metadata": {
    "tags": []
   },
   "source": [
    "# Summary\n",
    "### Python language translation project for AI & Application Development \n",
    "#### Sub-task: unittesting with the unittest library\n",
    "\n",
    "<p>\n",
    "This sub task does the unittests:<br>\n",
    "\"In computer programming, unit testing is a software testing method by which individual units of source code sets of one or more computer program modules together with associated control data, usage procedures, and operating procedures are tested to determine whether they are fit for use.\"<br>\n",
    "<a href=\"https://en.wikipedia.org/wiki/Unit_testing\" target=\"_blank\">Wikipedia</a> \n",
    "</p>\n",
    "\n",
    "<p>\n",
    "This project is part of the:<br>\n",
    "<b>\"IBM Applied AI Professional Certificate\"</b> on<br>\n",
    "<a href=\"https://www.coursera.org/professional-certificates/applied-artifical-intelligence-ibm-watson-ai\">Coursera</a> \n",
    "</p>\n",
    "\n",
    "<p>\n",
    "According to IBM:<br>\n",
    "\"This mini-course is intended to apply foundational Python skills by implementing different techniques to develop applications and AI powered solutions. Assume the role of a developer and unit test and package an application with the help of multiple hands-on labs. After completing this course you will have acquired the confidence to begin developing AI enabled applications using Python, build and run unit tests, and package the application for distribution.\"\n",
    "</p>\n",
    "\n",
    "<p>\n",
    "This project includes several sub tasks:</p>\n",
    "</p>\n",
    "\n",
    "<ul>\n",
    "    <li>Developing a real-world project using the IBM language translation API </li>\n",
    "    <li>Unit test in Python code and create a Python package </li>\n",
    "    <li>Build, test, and package your Python application using Theia Labs </li>\n",
    "    <li>Setting up a Flask web app for language translation. </li>\n",
    "    <li>Password encryption with dot-env</li>\n",
    "</ul>\n",
    "\n",
    "<p>\n",
    "For Github the project was modified by using Jupyter Notebooks.<br>\n",
    "This makes it more user-friendly and allows to see immediate outputs without deploying code.<br>\n",
    "However, this created new problems like running a Flask wep app from Jupyter.<br>\n",
    "Normally you would do this using a Python IDE and the command line and not Jupyter.\n",
    "</p>\n",
    "\n",
    "    "
   ]
  },
  {
   "cell_type": "markdown",
   "id": "873e4b6a-b7a1-4189-94fc-0862576f9c81",
   "metadata": {},
   "source": [
    "# Importing packages"
   ]
  },
  {
   "cell_type": "code",
   "execution_count": 1,
   "id": "0688d36e-0090-4ac3-ba7a-1709835c630e",
   "metadata": {},
   "outputs": [
    {
     "name": "stdout",
     "output_type": "stream",
     "text": [
      "666\n",
      "110889\n"
     ]
    }
   ],
   "source": [
    "import unittest\n",
    "import ibm_ai_modules"
   ]
  },
  {
   "cell_type": "markdown",
   "id": "af4e4cc4-9be7-4554-b410-59d49611d065",
   "metadata": {},
   "source": [
    "### Unit testing English to French function"
   ]
  },
  {
   "cell_type": "code",
   "execution_count": 2,
   "id": "1bfcd7d7-57d1-4589-9100-579300e444c2",
   "metadata": {},
   "outputs": [
    {
     "data": {
      "text/plain": [
       "'Bienvenue'"
      ]
     },
     "execution_count": 2,
     "metadata": {},
     "output_type": "execute_result"
    }
   ],
   "source": [
    "ibm_ai_modules.translator.english_to_french('Welcome')"
   ]
  },
  {
   "cell_type": "code",
   "execution_count": 3,
   "id": "f441fe8d-edbb-4964-9153-83837c5566ae",
   "metadata": {},
   "outputs": [
    {
     "name": "stderr",
     "output_type": "stream",
     "text": [
      "test1 (__main__.TestEnglFrench) ... ok\n",
      "\n",
      "----------------------------------------------------------------------\n",
      "Ran 1 test in 0.601s\n",
      "\n",
      "OK\n"
     ]
    },
    {
     "data": {
      "text/plain": [
       "<unittest.main.TestProgram at 0x17cea5b7970>"
      ]
     },
     "execution_count": 3,
     "metadata": {},
     "output_type": "execute_result"
    }
   ],
   "source": [
    "class TestEnglFrench(unittest.TestCase): \n",
    "    def test1(self): \n",
    "        self.assertEqual(ibm_ai_modules.translator.english_to_french('Hello'), 'Bonjour')  \n",
    "        self.assertEqual(ibm_ai_modules.translator.english_to_french('Welcome'), 'Bienvenue') \n",
    "\n",
    "unittest.main(argv=[''], verbosity=3, exit=False)\n"
   ]
  },
  {
   "cell_type": "code",
   "execution_count": 4,
   "id": "ef90c64b-3ba4-418e-afd5-12f78d5e2c7f",
   "metadata": {},
   "outputs": [
    {
     "data": {
      "text/plain": [
       "'Voiture'"
      ]
     },
     "execution_count": 4,
     "metadata": {},
     "output_type": "execute_result"
    }
   ],
   "source": [
    "ibm_ai_modules.translator.english_to_french('car')"
   ]
  },
  {
   "cell_type": "markdown",
   "id": "60c2b434-a922-4848-b5f4-b9db6e5e2b20",
   "metadata": {},
   "source": [
    "<p>\n",
    "Below the result of car is \"not equal\" to the result 'parapluie'.<br>\n",
    "</p>"
   ]
  },
  {
   "cell_type": "code",
   "execution_count": 5,
   "id": "b6704d97-ec3d-4568-99ff-bf8d5921d18c",
   "metadata": {},
   "outputs": [
    {
     "name": "stderr",
     "output_type": "stream",
     "text": [
      "test1 (__main__.TestEnglFrench) ... ok\n",
      "\n",
      "----------------------------------------------------------------------\n",
      "Ran 1 test in 0.931s\n",
      "\n",
      "OK\n"
     ]
    }
   ],
   "source": [
    "import unittest\n",
    "class TestEnglFrench(unittest.TestCase): \n",
    "    def test1(self): \n",
    "        self.assertEqual(ibm_ai_modules.translator.english_to_french('sun'), 'Soleil') \n",
    "        self.assertEqual(ibm_ai_modules.translator.english_to_french('Hello'), 'Bonjour')  \n",
    "        self.assertNotEqual(ibm_ai_modules.translator.english_to_french('car'), 'parapluie')  \n",
    "\n",
    "if __name__ == '__main__':\n",
    "    unittest.main(argv=[''], verbosity=3, exit=False)\n",
    "\n"
   ]
  },
  {
   "cell_type": "markdown",
   "id": "4c812009-0294-466e-a9db-1c216c746f1c",
   "metadata": {},
   "source": [
    "### Unit testing French to English function"
   ]
  },
  {
   "cell_type": "code",
   "execution_count": 6,
   "id": "b74a114d-b914-471f-9a5a-e3b3264b5e60",
   "metadata": {},
   "outputs": [
    {
     "name": "stderr",
     "output_type": "stream",
     "text": [
      "test1 (__main__.TestEnglFrench) ... ok\n",
      "test2 (__main__.TestFrenchEnglish) ... ok\n",
      "\n",
      "----------------------------------------------------------------------\n",
      "Ran 2 tests in 1.814s\n",
      "\n",
      "OK\n"
     ]
    }
   ],
   "source": [
    "class TestFrenchEnglish(unittest.TestCase): \n",
    "    def test2(self): \n",
    "        self.assertEqual(ibm_ai_modules.translator.french_to_english('Soleil'), 'Sun') \n",
    "        self.assertEqual(ibm_ai_modules.translator.french_to_english('Bonjour'), 'Hello')  \n",
    "        self.assertNotEqual(ibm_ai_modules.translator.french_to_english('parapluie'), 'umbrella')  \n",
    "\n",
    "if __name__ == '__main__':\n",
    "    unittest.main(argv=[''], verbosity=3, exit=False)"
   ]
  },
  {
   "cell_type": "markdown",
   "id": "47e9d801-4203-441a-ada1-f8b71e35ce5e",
   "metadata": {
    "tags": []
   },
   "source": [
    "### Running the unit tests from a module\n",
    "\n",
    "<p>\n",
    "using Built-in magic command - <br>\n",
    " %run: Run the named file inside IPython as a program.\n",
    "</p>\n",
    "\n",
    "<a href=\"https://ipython.readthedocs.io/en/stable/interactive/magics.html\" target=\"_blank\">Built-in magic commands</a> \n",
    "\n"
   ]
  },
  {
   "cell_type": "code",
   "execution_count": 7,
   "id": "67cd14dd-c5fa-434e-89e6-091be4779655",
   "metadata": {},
   "outputs": [
    {
     "name": "stderr",
     "output_type": "stream",
     "text": [
      "test3 (__main__.TestEnglFrench) ... ok\n",
      "test_NotNone_engl_french (__main__.TestEnglFrench_None) ... ok\n",
      "test4 (__main__.TestFrenchEnglish) ... ok\n",
      "test_NotNone_french_engl (__main__.TestFrenchEnglish_None) ... ok\n",
      "\n",
      "----------------------------------------------------------------------\n",
      "Ran 4 tests in 2.727s\n",
      "\n",
      "OK\n"
     ]
    }
   ],
   "source": [
    " %run ibm_ai_modules/unittests  "
   ]
  },
  {
   "cell_type": "markdown",
   "id": "c4346e4d-0904-4233-9e88-d46c1e27311a",
   "metadata": {},
   "source": [
    "### Unit testing with None"
   ]
  },
  {
   "cell_type": "code",
   "execution_count": 8,
   "id": "f26d463a-9391-49c0-b523-e036ec4000a7",
   "metadata": {},
   "outputs": [
    {
     "name": "stderr",
     "output_type": "stream",
     "text": [
      "test3 (__main__.TestEnglFrench) ... ok\n",
      "test_NotNone_engl_french (__main__.TestEnglFrench_None) ... ok\n",
      "test4 (__main__.TestFrenchEnglish) ... ok\n",
      "test_NotNone_french_engl (__main__.TestFrenchEnglish_None) ... ERROR\n",
      "\n",
      "======================================================================\n",
      "ERROR: test_NotNone_french_engl (__main__.TestFrenchEnglish_None)\n",
      "----------------------------------------------------------------------\n",
      "Traceback (most recent call last):\n",
      "  File \"C:\\Users\\rolfc\\AppData\\Local\\Temp\\ipykernel_3312\\2566760597.py\", line 3, in test_NotNone_french_engl\n",
      "    self.assertIsNotNone(ibm_ai_modules.translator.french_to_english(None),  \"Test value is none.\")\n",
      "  File \"G:\\Other computers\\Mein Laptop (1)\\data_camp_projects\\ibm_ai_language_translation\\ibm_ai_modules\\translator.py\", line 29, in french_to_english\n",
      "    language_translator.translate(\\\n",
      "  File \"C:\\Users\\rolfc\\miniconda3\\envs\\ibm_ai\\lib\\site-packages\\ibm_watson\\language_translator_v3.py\", line 164, in translate\n",
      "    raise ValueError('text must be provided')\n",
      "ValueError: text must be provided\n",
      "\n",
      "----------------------------------------------------------------------\n",
      "Ran 4 tests in 2.349s\n",
      "\n",
      "FAILED (errors=1)\n"
     ]
    }
   ],
   "source": [
    "class TestFrenchEnglish_None(unittest.TestCase): \n",
    "    def test_NotNone_french_engl(self): \n",
    "        self.assertIsNotNone(ibm_ai_modules.translator.french_to_english(None),  \"Test value is none.\")\n",
    "                       \n",
    "\n",
    "if __name__ == '__main__':\n",
    "    unittest.main(argv=[''], verbosity=3, exit=False)"
   ]
  },
  {
   "cell_type": "code",
   "execution_count": null,
   "id": "a8166b52-a21f-4553-83cd-7bd52aa5a8e2",
   "metadata": {},
   "outputs": [],
   "source": []
  }
 ],
 "metadata": {
  "kernelspec": {
   "display_name": "Python [conda env:ibm_ai]",
   "language": "python",
   "name": "conda-env-ibm_ai-py"
  },
  "language_info": {
   "codemirror_mode": {
    "name": "ipython",
    "version": 3
   },
   "file_extension": ".py",
   "mimetype": "text/x-python",
   "name": "python",
   "nbconvert_exporter": "python",
   "pygments_lexer": "ipython3",
   "version": "3.9.7"
  }
 },
 "nbformat": 4,
 "nbformat_minor": 5
}
