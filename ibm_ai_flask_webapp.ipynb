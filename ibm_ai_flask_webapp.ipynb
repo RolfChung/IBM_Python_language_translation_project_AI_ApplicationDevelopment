{
 "cells": [
  {
   "cell_type": "markdown",
   "id": "cd3414c1-3763-4b20-a129-a5d2f3916843",
   "metadata": {},
   "source": [
    "# Summary\n",
    "### Python language translation project for AI & Application Development \n",
    "#### Sub-task: building a language translation web app with Flask\n",
    "\n",
    "<p>\n",
    "This sub task is building a language translation web app with Flask.<br>\n",
    "It uses the server.py file.<br>\n",
    "For a full version visit the code repository on:<br>\n",
    "<a href=\"https://github.com/RolfChung/xzceb-flask_eng_fr/tree/master/final_project\">Github</a> \n",
    "</p>\n",
    "\n",
    "<p>\n",
    "This project is part of the:<br>\n",
    "<b>\"IBM Applied AI Professional Certificate\"</b> on<br>\n",
    "<a href=\"https://www.coursera.org/professional-certificates/applied-artifical-intelligence-ibm-watson-ai\">Coursera</a> \n",
    "</p>\n",
    "\n",
    "<p>\n",
    "According to IBM:<br>\n",
    "\"This mini-course is intended to apply foundational Python skills by implementing different techniques to develop applications and AI powered solutions. Assume the role of a developer and unit test and package an application with the help of multiple hands-on labs. After completing this course you will have acquired the confidence to begin developing AI enabled applications using Python, build and run unit tests, and package the application for distribution.\"\n",
    "</p>\n",
    "\n",
    "<p>\n",
    "This project includes several sub tasks:</p>\n",
    "</p>\n",
    "\n",
    "<ul>\n",
    "    <li>Developing a real-world project using the IBM language translation API </li>\n",
    "    <li>Unit test in Python code and create a Python package </li>\n",
    "    <li>Build, test, and package your Python application using Theia Labs </li>\n",
    "    <li>Setting up a Flask web app for language translation. </li>\n",
    "    <li>Password encryption with dot-env</li>\n",
    "</ul>\n",
    "\n",
    "<p>\n",
    "For Github the project was modified by using Jupyter Notebooks.<br>\n",
    "This makes it more user-friendly and allows to see immediate outputs without deploying code.<br>\n",
    "However, this created new problems like running a Flask wep app from Jupyter.<br>\n",
    "Normally you would do this using a Python IDE and the command line and not Jupyter.\n",
    "</p>\n"
   ]
  },
  {
   "cell_type": "code",
   "execution_count": 1,
   "id": "0a984c7e-ad8c-4c15-8290-50ba02aede82",
   "metadata": {},
   "outputs": [
    {
     "name": "stdout",
     "output_type": "stream",
     "text": [
      "666\n",
      "110889\n"
     ]
    }
   ],
   "source": [
    "%run ibm_ai_modules/server.py"
   ]
  },
  {
   "cell_type": "code",
   "execution_count": 2,
   "id": "fd44b361-1eb1-4bcc-a804-d4b1aec3f610",
   "metadata": {},
   "outputs": [
    {
     "data": {
      "text/plain": [
       "'Bonjour'"
      ]
     },
     "execution_count": 2,
     "metadata": {},
     "output_type": "execute_result"
    }
   ],
   "source": [
    "englishToFrench('Hello')"
   ]
  },
  {
   "cell_type": "code",
   "execution_count": null,
   "id": "1960f221-a423-4230-a80f-f43c7c94c00e",
   "metadata": {},
   "outputs": [],
   "source": []
  }
 ],
 "metadata": {
  "kernelspec": {
   "display_name": "Python [conda env:ibm_ai]",
   "language": "python",
   "name": "conda-env-ibm_ai-py"
  },
  "language_info": {
   "codemirror_mode": {
    "name": "ipython",
    "version": 3
   },
   "file_extension": ".py",
   "mimetype": "text/x-python",
   "name": "python",
   "nbconvert_exporter": "python",
   "pygments_lexer": "ipython3",
   "version": "3.9.7"
  }
 },
 "nbformat": 4,
 "nbformat_minor": 5
}
