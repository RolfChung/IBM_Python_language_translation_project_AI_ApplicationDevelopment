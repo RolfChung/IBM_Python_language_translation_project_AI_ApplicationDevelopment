{
 "cells": [
  {
   "cell_type": "markdown",
   "id": "bcae6173-49a8-4883-acf3-f82e00895977",
   "metadata": {
    "tags": []
   },
   "source": [
    "# Summary\n",
    "### Python language translation project for AI & Application Development \n",
    "#### Sub-task: checking codestyle with pycodestyle\n",
    "\n",
    "<p>\n",
    "This sub task checks the code style using pycodestyle.<br>\n",
    "It is Jupyter substitute for the comprehensive code checker Pylint.<br>\n",
    "It uses Jupyter magic.<br>\n",
    "<a href=\"https://stackoverflow.com/questions/50358327/using-pylint-in-ipython-jupyter-notebook\">Stack</a> \n",
    "</p>\n",
    "\n",
    "<p>\n",
    "This project is part of the:<br>\n",
    "<b>\"IBM Applied AI Professional Certificate\"</b> on<br>\n",
    "<a href=\"https://www.coursera.org/professional-certificates/applied-artifical-intelligence-ibm-watson-ai\">Coursera</a> \n",
    "</p>\n",
    "\n",
    "<p>\n",
    "According to IBM:<br>\n",
    "\"This mini-course is intended to apply foundational Python skills by implementing different techniques to develop applications and AI powered solutions. Assume the role of a developer and unit test and package an application with the help of multiple hands-on labs. After completing this course you will have acquired the confidence to begin developing AI enabled applications using Python, build and run unit tests, and package the application for distribution.\"\n",
    "</p>\n",
    "\n",
    "<p>\n",
    "This project includes several sub tasks:</p>\n",
    "</p>\n",
    "\n",
    "<ul>\n",
    "    <li>Developing a real-world project using the IBM language translation API </li>\n",
    "    <li>Unit test in Python code and create a Python package </li>\n",
    "    <li>Build, test, and package your Python application using Theia Labs </li>\n",
    "    <li>Setting up a Flask web app for language translation. </li>\n",
    "    <li>Password encryption with dot-env</li>\n",
    "</ul>\n",
    "\n",
    "<p>\n",
    "For Github the project was modified by using Jupyter Notebooks.<br>\n",
    "This makes it more user-friendly and allows to see immediate outputs without deploying code.<br>\n",
    "However, this created new problems like running a Flask wep app from Jupyter.<br>\n",
    "Normally you would do this using a Python IDE and the command line and not Jupyter.\n",
    "</p>\n",
    "\n",
    "    \n",
    "\n"
   ]
  },
  {
   "cell_type": "code",
   "execution_count": 1,
   "id": "4e3c9b7d-0a44-4bd4-a46b-c7ab1f8e0d44",
   "metadata": {},
   "outputs": [
    {
     "data": {
      "text/plain": [
       "1213"
      ]
     },
     "execution_count": 1,
     "metadata": {},
     "output_type": "execute_result"
    }
   ],
   "source": [
    "1+1212"
   ]
  },
  {
   "cell_type": "markdown",
   "id": "c4564aa5-3e9f-46f7-88fa-ab7d36bec84c",
   "metadata": {},
   "source": [
    "pycodestyle# Import packages"
   ]
  },
  {
   "cell_type": "code",
   "execution_count": 2,
   "id": "ebd8b3fb-7e97-4317-a279-4b07dcf09dcb",
   "metadata": {},
   "outputs": [
    {
     "name": "stdout",
     "output_type": "stream",
     "text": [
      "666\n",
      "110889\n"
     ]
    }
   ],
   "source": [
    "import pylint\n",
    "import pycodestyle\n",
    "import ibm_ai_modules # my package"
   ]
  },
  {
   "cell_type": "code",
   "execution_count": 3,
   "id": "843f771c-8dc6-466c-9c47-09e8e157ff17",
   "metadata": {},
   "outputs": [],
   "source": [
    "%%capture\n",
    "pip install flake8 pycodestyle_magic"
   ]
  },
  {
   "cell_type": "code",
   "execution_count": 4,
   "id": "a6803d2e-5bee-49c2-be1e-6701d115c009",
   "metadata": {},
   "outputs": [],
   "source": [
    "%load_ext pycodestyle_magic"
   ]
  },
  {
   "cell_type": "code",
   "execution_count": 5,
   "id": "71e30e45-2193-4a31-adcf-587f4acf4a4d",
   "metadata": {},
   "outputs": [],
   "source": [
    "# pylint.__version__\n"
   ]
  },
  {
   "cell_type": "markdown",
   "id": "cc2c5986-fc79-4c4e-96ba-462d2edcead5",
   "metadata": {},
   "source": [
    "#### Print the content and functions in translator.py"
   ]
  },
  {
   "cell_type": "code",
   "execution_count": 6,
   "id": "3790eca9-02dd-4e46-8e50-2a359731d3f1",
   "metadata": {},
   "outputs": [
    {
     "name": "stdout",
     "output_type": "stream",
     "text": [
      "import ibm_watson\n",
      "from ibm_watson import LanguageTranslatorV3\n",
      "import json\n",
      "from ibm_cloud_sdk_core.authenticators import IAMAuthenticator\n",
      "from ibm_ai_modules import config_language\n",
      "\n",
      "url_lt = config_language.url_lt\n",
      "apikey_lt = config_language.apikey_lt\n",
      "version_lt = config_language.version_lt\n",
      "\n",
      "authenticator = IAMAuthenticator(apikey_lt)\n",
      "language_translator = LanguageTranslatorV3(version=version_lt,authenticator=authenticator)\n",
      "language_translator.set_service_url(url_lt)\n",
      "\n",
      "# Check\n",
      "language_translator\n",
      "\n",
      "\n",
      "def english_to_french(recognized_text, lgt=language_translator):\n",
      "        # lt_2 = eval(lt)\n",
      "        translation_response_fr = \\\n",
      "        lgt.translate(text=recognized_text, model_id='en-fr')\n",
      "        translation_fr=translation_response_fr.get_result()\n",
      "        french_translation =translation_fr['translations'][0]['translation']\n",
      "        return french_translation \n",
      "\n",
      "def french_to_english(recognized_text):\n",
      "        translation_response_fr_engl = \\\n",
      "        language_translator.translate(\\\n",
      "        text=recognized_text, model_id='fr-en')\n",
      "        translation_fr_engl=translation_response_fr_engl.get_result()\n",
      "        engl_translation =translation_fr_engl['translations'][0]['translation']\n",
      "        return engl_translation\n"
     ]
    }
   ],
   "source": [
    "with open(\"ibm_ai_modules/translator.py\", \"r\") as file:\n",
    "    r = file.read()\n",
    "    \n",
    "    \n",
    "print(r)\n",
    "    "
   ]
  },
  {
   "cell_type": "code",
   "execution_count": 7,
   "id": "6c7e1138-c99b-4969-b220-8a843889ec2c",
   "metadata": {},
   "outputs": [],
   "source": [
    "!conda list > txt/requirements_static_code_analysis.txt"
   ]
  },
  {
   "cell_type": "markdown",
   "id": "00592054-d93c-47bb-83c6-6898861fc5a8",
   "metadata": {},
   "source": [
    "# Static code analysis with Pycodestyle"
   ]
  },
  {
   "cell_type": "code",
   "execution_count": 8,
   "id": "75f01ae3-6764-4fb6-ad01-22642590bc19",
   "metadata": {},
   "outputs": [
    {
     "data": {
      "text/plain": [
       "'Bonjour !'"
      ]
     },
     "execution_count": 8,
     "metadata": {},
     "output_type": "execute_result"
    }
   ],
   "source": [
    "\n",
    "ibm_ai_modules.translator.english_to_french('Hello!')"
   ]
  },
  {
   "cell_type": "code",
   "execution_count": 9,
   "id": "382c1c7f-1d03-4697-bf5c-ac1ee743cf73",
   "metadata": {},
   "outputs": [],
   "source": [
    "%%pycodestyle\n",
    "ibm_ai_modules.translator.english_to_french('Hello!')"
   ]
  },
  {
   "cell_type": "code",
   "execution_count": 10,
   "id": "3afc8cb3-de4b-4b27-827d-17ecc3d0bf6c",
   "metadata": {},
   "outputs": [
    {
     "name": "stderr",
     "output_type": "stream",
     "text": [
      "3:1: W391 blank line at end of file\n"
     ]
    }
   ],
   "source": [
    "%%pycodestyle\n",
    "ibm_ai_modules.translator.french_to_english('Bonjour')"
   ]
  },
  {
   "cell_type": "code",
   "execution_count": null,
   "id": "399313ab-c909-406a-8d7e-852b40dec2e3",
   "metadata": {},
   "outputs": [],
   "source": []
  }
 ],
 "metadata": {
  "kernelspec": {
   "display_name": "Python [conda env:ibm_ai]",
   "language": "python",
   "name": "conda-env-ibm_ai-py"
  },
  "language_info": {
   "codemirror_mode": {
    "name": "ipython",
    "version": 3
   },
   "file_extension": ".py",
   "mimetype": "text/x-python",
   "name": "python",
   "nbconvert_exporter": "python",
   "pygments_lexer": "ipython3",
   "version": "3.9.7"
  }
 },
 "nbformat": 4,
 "nbformat_minor": 5
}
